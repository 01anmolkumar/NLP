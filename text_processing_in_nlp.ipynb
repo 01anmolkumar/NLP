{
  "nbformat": 4,
  "nbformat_minor": 0,
  "metadata": {
    "colab": {
      "provenance": []
    },
    "kernelspec": {
      "name": "python3",
      "display_name": "Python 3"
    },
    "language_info": {
      "name": "python"
    }
  },
  "cells": [
    {
      "cell_type": "markdown",
      "source": [
        "Suppose we're in a situation to create a Sentiment Analysis Model. We have the dataset available, but the problem is: the machine will not understand the sentences of any language directly. We have to clean those datasets by using stopwords, deleting punctuation, and applying many more algorithms to remove irrelevant things from the data. Only then can we feed the cleaned data to our machine or deep learning models to get some output from it.\n",
        "\n",
        "We are assuming you have a knowledge of Python. If not, no worries — we will give you some overview of it."
      ],
      "metadata": {
        "id": "lPQhZSnjreos"
      }
    },
    {
      "cell_type": "markdown",
      "source": [
        "Python String\n",
        "What is a String?\n",
        "\n",
        "A string is like a sequence of characters.\n",
        "\n",
        "A character is just a symbol. For example, the English language has 26 characters.\n",
        "\n",
        "Computers don’t deal with characters directly. They deal with binary numbers (0s and 1s). Even though you see characters, internally they are stored and manipulated using binary. The conversion of a character to a number is called encoding, and the reverse is decoding.\n",
        "\n",
        "string literally surrounded by single or double quotations like:"
      ],
      "metadata": {
        "id": "b7-MY5qoriUG"
      }
    },
    {
      "cell_type": "code",
      "source": [
        "a = \"pwskills\"\n",
        "print(a)"
      ],
      "metadata": {
        "colab": {
          "base_uri": "https://localhost:8080/"
        },
        "id": "Fk7nsAvCrl9n",
        "outputId": "fa29cae5-901d-4af4-9225-b338ec604320"
      },
      "execution_count": 1,
      "outputs": [
        {
          "output_type": "stream",
          "name": "stdout",
          "text": [
            "pwskills\n"
          ]
        }
      ]
    },
    {
      "cell_type": "code",
      "source": [
        "type(a)"
      ],
      "metadata": {
        "colab": {
          "base_uri": "https://localhost:8080/"
        },
        "id": "awykIixErpOK",
        "outputId": "65ab52ed-b3ae-43a5-b759-292f91343e4c"
      },
      "execution_count": 2,
      "outputs": [
        {
          "output_type": "execute_result",
          "data": {
            "text/plain": [
              "str"
            ]
          },
          "metadata": {},
          "execution_count": 2
        }
      ]
    },
    {
      "cell_type": "markdown",
      "source": [
        "2. Strings are Arrays\n",
        "\n",
        "Like in other popular programming languages, strings in Python are arrays of bytes representing Unicode characters.\n",
        "\n",
        "However, Python doesn't have a separate character datatype — a single character is simply a string with a length of 1.\n",
        "\n",
        "We use square brackets to access elements from the string."
      ],
      "metadata": {
        "id": "_5SGgT28rvfi"
      }
    },
    {
      "cell_type": "code",
      "source": [
        "# Get the character at position 4 (Here, indexing starts from 0)\n",
        "a = \"PwSkills\"\n",
        "print(a[4])\n"
      ],
      "metadata": {
        "colab": {
          "base_uri": "https://localhost:8080/"
        },
        "id": "OXiAUoCKrv-3",
        "outputId": "8177f0dc-6b12-4b1e-fec3-aae1f6a8bfda"
      },
      "execution_count": 3,
      "outputs": [
        {
          "output_type": "stream",
          "name": "stdout",
          "text": [
            "i\n"
          ]
        }
      ]
    },
    {
      "cell_type": "markdown",
      "source": [
        "\n",
        "Slicing\n",
        "\n",
        "You can get the output for a certain range of characters by using the slicing index.\n",
        "\n",
        "Specify the start index and end index, separated by a colon :, to return a part of the string."
      ],
      "metadata": {
        "id": "bunmzh12sGuG"
      }
    },
    {
      "cell_type": "code",
      "source": [
        "# To get the output from the position 3 to 6 (not included)\n",
        "a = \"PwSkills\"\n",
        "print(a[3:6])      # Output: 'kil'\n",
        "print(\"----\" * 10)\n",
        "\n",
        "# To get the output by negative indexing from 8 position to 2 position\n",
        "print(a[6:2:-1])   # Output: 'Ski'\n",
        "print(\"----\" * 10)\n",
        "\n",
        "# Get the results from position 2 to 6 but give result with the increment of 2\n",
        "print(a[2:6:2])  # Output: 'Si'"
      ],
      "metadata": {
        "colab": {
          "base_uri": "https://localhost:8080/"
        },
        "id": "t7q7Z6y9sEvS",
        "outputId": "b65ccece-5730-41ec-9f41-b74f5c697bd7"
      },
      "execution_count": 5,
      "outputs": [
        {
          "output_type": "stream",
          "name": "stdout",
          "text": [
            "kil\n",
            "----------------------------------------\n",
            "llik\n",
            "----------------------------------------\n",
            "Si\n"
          ]
        }
      ]
    },
    {
      "cell_type": "markdown",
      "source": [
        "string Method\n",
        "> python have set of built-in methods that you can use on strings."
      ],
      "metadata": {
        "id": "ftU4057BsRuD"
      }
    },
    {
      "cell_type": "code",
      "source": [
        "#strip() will remove whitespace in the string from begining to the end.\n",
        "a= \" pwskills \"\n",
        "print(a.split())"
      ],
      "metadata": {
        "colab": {
          "base_uri": "https://localhost:8080/"
        },
        "id": "gGVRtdKQsSgY",
        "outputId": "ed02e693-2458-4d69-b513-da6d2fbec41f"
      },
      "execution_count": 6,
      "outputs": [
        {
          "output_type": "stream",
          "name": "stdout",
          "text": [
            "['pwskills']\n"
          ]
        }
      ]
    },
    {
      "cell_type": "code",
      "source": [
        "#lower() will lowercase the words which are upper in sentences.\n",
        "a= \"pwskills\"\n",
        "print(a.lower())"
      ],
      "metadata": {
        "colab": {
          "base_uri": "https://localhost:8080/"
        },
        "id": "GmjxB_Z5sU9d",
        "outputId": "9b989f4f-50c3-4890-e3dd-c52b53806724"
      },
      "execution_count": 7,
      "outputs": [
        {
          "output_type": "stream",
          "name": "stdout",
          "text": [
            "pwskills\n"
          ]
        }
      ]
    },
    {
      "cell_type": "code",
      "source": [
        "#upper() will trasform lowercase into upper.\n",
        "a= \"pwskills\"\n",
        "print(a.upper())"
      ],
      "metadata": {
        "colab": {
          "base_uri": "https://localhost:8080/"
        },
        "id": "xi2snRE-sW6g",
        "outputId": "eb5641e5-06bf-4d78-ac93-c299b37651de"
      },
      "execution_count": 8,
      "outputs": [
        {
          "output_type": "stream",
          "name": "stdout",
          "text": [
            "PWSKILLS\n"
          ]
        }
      ]
    },
    {
      "cell_type": "code",
      "source": [
        "#replace() will work like replace one string with another string.\n",
        "a = \"pwskills\"\n",
        "print(a.replace(\"i\", \"me\"))"
      ],
      "metadata": {
        "colab": {
          "base_uri": "https://localhost:8080/"
        },
        "id": "4hSplNY3sYde",
        "outputId": "f32bb0fa-4a03-4834-b8bb-5894c875c39e"
      },
      "execution_count": 9,
      "outputs": [
        {
          "output_type": "stream",
          "name": "stdout",
          "text": [
            "pwskmells\n"
          ]
        }
      ]
    },
    {
      "cell_type": "code",
      "source": [
        "#split() will split the strings into substrings if it finds any instances of seprator.\n",
        "a = \"pwskills\"\n",
        "print(a.split(\"i\"))"
      ],
      "metadata": {
        "colab": {
          "base_uri": "https://localhost:8080/"
        },
        "id": "_e4Wbbb_sajV",
        "outputId": "2b992370-9d8a-49d0-e945-0826a9d3bca0"
      },
      "execution_count": 10,
      "outputs": [
        {
          "output_type": "stream",
          "name": "stdout",
          "text": [
            "['pwsk', 'lls']\n"
          ]
        }
      ]
    },
    {
      "cell_type": "markdown",
      "source": [
        "\n",
        "string Concatenation\n",
        "\n",
        "TO Concatenate or combine two string by use of + operator."
      ],
      "metadata": {
        "id": "3K6q8AhAshSF"
      }
    },
    {
      "cell_type": "code",
      "source": [
        "a= \"pwskills\"\n",
        "b= \"Data\"\n",
        "print(a +\" \"+ b)"
      ],
      "metadata": {
        "colab": {
          "base_uri": "https://localhost:8080/"
        },
        "id": "aS7xJ3wtsjO2",
        "outputId": "6e2cb3b7-6bfc-4920-9575-ebe1d65f110e"
      },
      "execution_count": 11,
      "outputs": [
        {
          "output_type": "stream",
          "name": "stdout",
          "text": [
            "pwskills Data\n"
          ]
        }
      ]
    },
    {
      "cell_type": "markdown",
      "source": [
        "▼ Import text\n",
        "\n",
        "In NLP your dataset would be in .txt, .csv type of format, you need to import it and try to clean the irrelevant datas from the dataset. Here we’ll going to understand Python file handling: create, open, read, append, write.\n",
        "\n",
        "Create a text file\n",
        "\n",
        "With the use of python you can create the text files by using code, we have demonstrated here how you can do this.\n",
        "\n",
        "Please download this txt file(PwSkills.txt) from here: https://drive.google.com/file/d/1ETq2baHdMsWve_lrF9Ts3c5yRFc5iMbl/view?usp=sharing\n",
        "\n"
      ],
      "metadata": {
        "id": "oVyEx_SDsm5_"
      }
    },
    {
      "cell_type": "code",
      "source": [
        "#Step1\n",
        "from google.colab import files\n",
        "files.upload()\n",
        "file = open(\"PwSkills.txt\", \"w+\")\n"
      ],
      "metadata": {
        "colab": {
          "base_uri": "https://localhost:8080/",
          "height": 74
        },
        "id": "beW2cEPzsk5G",
        "outputId": "e3e96d13-d14d-4306-e9cd-80028e11543e"
      },
      "execution_count": 13,
      "outputs": [
        {
          "output_type": "display_data",
          "data": {
            "text/plain": [
              "<IPython.core.display.HTML object>"
            ],
            "text/html": [
              "\n",
              "     <input type=\"file\" id=\"files-89dc871d-475a-43ad-83e3-de88eda53b79\" name=\"files[]\" multiple disabled\n",
              "        style=\"border:none\" />\n",
              "     <output id=\"result-89dc871d-475a-43ad-83e3-de88eda53b79\">\n",
              "      Upload widget is only available when the cell has been executed in the\n",
              "      current browser session. Please rerun this cell to enable.\n",
              "      </output>\n",
              "      <script>// Copyright 2017 Google LLC\n",
              "//\n",
              "// Licensed under the Apache License, Version 2.0 (the \"License\");\n",
              "// you may not use this file except in compliance with the License.\n",
              "// You may obtain a copy of the License at\n",
              "//\n",
              "//      http://www.apache.org/licenses/LICENSE-2.0\n",
              "//\n",
              "// Unless required by applicable law or agreed to in writing, software\n",
              "// distributed under the License is distributed on an \"AS IS\" BASIS,\n",
              "// WITHOUT WARRANTIES OR CONDITIONS OF ANY KIND, either express or implied.\n",
              "// See the License for the specific language governing permissions and\n",
              "// limitations under the License.\n",
              "\n",
              "/**\n",
              " * @fileoverview Helpers for google.colab Python module.\n",
              " */\n",
              "(function(scope) {\n",
              "function span(text, styleAttributes = {}) {\n",
              "  const element = document.createElement('span');\n",
              "  element.textContent = text;\n",
              "  for (const key of Object.keys(styleAttributes)) {\n",
              "    element.style[key] = styleAttributes[key];\n",
              "  }\n",
              "  return element;\n",
              "}\n",
              "\n",
              "// Max number of bytes which will be uploaded at a time.\n",
              "const MAX_PAYLOAD_SIZE = 100 * 1024;\n",
              "\n",
              "function _uploadFiles(inputId, outputId) {\n",
              "  const steps = uploadFilesStep(inputId, outputId);\n",
              "  const outputElement = document.getElementById(outputId);\n",
              "  // Cache steps on the outputElement to make it available for the next call\n",
              "  // to uploadFilesContinue from Python.\n",
              "  outputElement.steps = steps;\n",
              "\n",
              "  return _uploadFilesContinue(outputId);\n",
              "}\n",
              "\n",
              "// This is roughly an async generator (not supported in the browser yet),\n",
              "// where there are multiple asynchronous steps and the Python side is going\n",
              "// to poll for completion of each step.\n",
              "// This uses a Promise to block the python side on completion of each step,\n",
              "// then passes the result of the previous step as the input to the next step.\n",
              "function _uploadFilesContinue(outputId) {\n",
              "  const outputElement = document.getElementById(outputId);\n",
              "  const steps = outputElement.steps;\n",
              "\n",
              "  const next = steps.next(outputElement.lastPromiseValue);\n",
              "  return Promise.resolve(next.value.promise).then((value) => {\n",
              "    // Cache the last promise value to make it available to the next\n",
              "    // step of the generator.\n",
              "    outputElement.lastPromiseValue = value;\n",
              "    return next.value.response;\n",
              "  });\n",
              "}\n",
              "\n",
              "/**\n",
              " * Generator function which is called between each async step of the upload\n",
              " * process.\n",
              " * @param {string} inputId Element ID of the input file picker element.\n",
              " * @param {string} outputId Element ID of the output display.\n",
              " * @return {!Iterable<!Object>} Iterable of next steps.\n",
              " */\n",
              "function* uploadFilesStep(inputId, outputId) {\n",
              "  const inputElement = document.getElementById(inputId);\n",
              "  inputElement.disabled = false;\n",
              "\n",
              "  const outputElement = document.getElementById(outputId);\n",
              "  outputElement.innerHTML = '';\n",
              "\n",
              "  const pickedPromise = new Promise((resolve) => {\n",
              "    inputElement.addEventListener('change', (e) => {\n",
              "      resolve(e.target.files);\n",
              "    });\n",
              "  });\n",
              "\n",
              "  const cancel = document.createElement('button');\n",
              "  inputElement.parentElement.appendChild(cancel);\n",
              "  cancel.textContent = 'Cancel upload';\n",
              "  const cancelPromise = new Promise((resolve) => {\n",
              "    cancel.onclick = () => {\n",
              "      resolve(null);\n",
              "    };\n",
              "  });\n",
              "\n",
              "  // Wait for the user to pick the files.\n",
              "  const files = yield {\n",
              "    promise: Promise.race([pickedPromise, cancelPromise]),\n",
              "    response: {\n",
              "      action: 'starting',\n",
              "    }\n",
              "  };\n",
              "\n",
              "  cancel.remove();\n",
              "\n",
              "  // Disable the input element since further picks are not allowed.\n",
              "  inputElement.disabled = true;\n",
              "\n",
              "  if (!files) {\n",
              "    return {\n",
              "      response: {\n",
              "        action: 'complete',\n",
              "      }\n",
              "    };\n",
              "  }\n",
              "\n",
              "  for (const file of files) {\n",
              "    const li = document.createElement('li');\n",
              "    li.append(span(file.name, {fontWeight: 'bold'}));\n",
              "    li.append(span(\n",
              "        `(${file.type || 'n/a'}) - ${file.size} bytes, ` +\n",
              "        `last modified: ${\n",
              "            file.lastModifiedDate ? file.lastModifiedDate.toLocaleDateString() :\n",
              "                                    'n/a'} - `));\n",
              "    const percent = span('0% done');\n",
              "    li.appendChild(percent);\n",
              "\n",
              "    outputElement.appendChild(li);\n",
              "\n",
              "    const fileDataPromise = new Promise((resolve) => {\n",
              "      const reader = new FileReader();\n",
              "      reader.onload = (e) => {\n",
              "        resolve(e.target.result);\n",
              "      };\n",
              "      reader.readAsArrayBuffer(file);\n",
              "    });\n",
              "    // Wait for the data to be ready.\n",
              "    let fileData = yield {\n",
              "      promise: fileDataPromise,\n",
              "      response: {\n",
              "        action: 'continue',\n",
              "      }\n",
              "    };\n",
              "\n",
              "    // Use a chunked sending to avoid message size limits. See b/62115660.\n",
              "    let position = 0;\n",
              "    do {\n",
              "      const length = Math.min(fileData.byteLength - position, MAX_PAYLOAD_SIZE);\n",
              "      const chunk = new Uint8Array(fileData, position, length);\n",
              "      position += length;\n",
              "\n",
              "      const base64 = btoa(String.fromCharCode.apply(null, chunk));\n",
              "      yield {\n",
              "        response: {\n",
              "          action: 'append',\n",
              "          file: file.name,\n",
              "          data: base64,\n",
              "        },\n",
              "      };\n",
              "\n",
              "      let percentDone = fileData.byteLength === 0 ?\n",
              "          100 :\n",
              "          Math.round((position / fileData.byteLength) * 100);\n",
              "      percent.textContent = `${percentDone}% done`;\n",
              "\n",
              "    } while (position < fileData.byteLength);\n",
              "  }\n",
              "\n",
              "  // All done.\n",
              "  yield {\n",
              "    response: {\n",
              "      action: 'complete',\n",
              "    }\n",
              "  };\n",
              "}\n",
              "\n",
              "scope.google = scope.google || {};\n",
              "scope.google.colab = scope.google.colab || {};\n",
              "scope.google.colab._files = {\n",
              "  _uploadFiles,\n",
              "  _uploadFilesContinue,\n",
              "};\n",
              "})(self);\n",
              "</script> "
            ]
          },
          "metadata": {}
        },
        {
          "output_type": "stream",
          "name": "stdout",
          "text": [
            "Saving PwSkills.txt to PwSkills.txt\n"
          ]
        }
      ]
    },
    {
      "cell_type": "markdown",
      "source": [
        "1. Here we declared file as a variable to open a file named PwSkills.txt. Open takes two arguments, first one is for the file we want to open\n",
        "2. and second one represents some kind of permissions or operation we want to do into that file.\n",
        "3. • Here we taken \"w\" letter as an argument, which indicates write and will create a file if it is not exist in the library.\n",
        "4. • That '+' signs indicate both read and write.\n",
        "5. • The other option beside \"w\" are, \"r\" for read, and \"a\" for append.\n"
      ],
      "metadata": {
        "id": "L-ltKTfXwte2"
      }
    },
    {
      "cell_type": "code",
      "source": [
        "# Step 2\n",
        "for i in range(5):\n",
        "    file.write(\"Line number is %d\\r\\n\" % (i + 1))\n"
      ],
      "metadata": {
        "id": "H_7NhWjUw1Nt"
      },
      "execution_count": 16,
      "outputs": []
    },
    {
      "cell_type": "markdown",
      "source": [
        ". we have a loop that run over a range of 5 numbers.\n",
        "\n",
        ". here using the write functions for entering data into the file.\n",
        "\n",
        ". The output we want to iterate in the file is \"Line number is\", which we already decleared with write function and then percent d(display integers)"
      ],
      "metadata": {
        "id": "UhYwywo-2pty"
      }
    },
    {
      "cell_type": "code",
      "source": [
        "#step3\n",
        "file.close()"
      ],
      "metadata": {
        "id": "7G0tOUvYs4tS"
      },
      "execution_count": 17,
      "outputs": []
    },
    {
      "cell_type": "markdown",
      "source": [
        "* This will close the instance of pwskills.text stored.\n",
        "\n",
        "* Here is the result after the execution of code.    \n",
        "\n",
        "\n",
        "\n"
      ],
      "metadata": {
        "id": "AM3rp6HB4Zft"
      }
    },
    {
      "cell_type": "markdown",
      "source": [
        "**Append data to a file**\n",
        "\n",
        "you can also append a new text inside the existing file or in a new file.\n",
        "\n"
      ],
      "metadata": {
        "id": "dSgy7cFg5ICc"
      }
    },
    {
      "cell_type": "code",
      "source": [
        "#step1\n",
        "file = open(\"PwSkills.txt\", \"a+\")"
      ],
      "metadata": {
        "id": "ph_qwMdB3qoC"
      },
      "execution_count": 18,
      "outputs": []
    },
    {
      "cell_type": "markdown",
      "source": [
        "Once again \"+\" sign in the code which means if .text file are not file are available, this plus sign will create a new file but here is not any requirement to create a new file."
      ],
      "metadata": {
        "id": "eHkIXjLd5qT3"
      }
    },
    {
      "cell_type": "code",
      "source": [
        "#step2\n",
        "for i in range(3):\n",
        "    file.write(\"appending line number %d\\r\\n\" % (i + 1))"
      ],
      "metadata": {
        "id": "lwVP_vNj5pAs"
      },
      "execution_count": 19,
      "outputs": []
    },
    {
      "cell_type": "markdown",
      "source": [
        "This will data into a file in append mode."
      ],
      "metadata": {
        "id": "7D3O-RnY6Wx9"
      }
    },
    {
      "cell_type": "code",
      "source": [
        "#step3\n",
        "file.close()"
      ],
      "metadata": {
        "id": "wqWOt5AT6U8h"
      },
      "execution_count": 20,
      "outputs": []
    },
    {
      "cell_type": "markdown",
      "source": [
        "we seen earlier this close function will close the instance of the file pwskills.txt stored."
      ],
      "metadata": {
        "id": "T_pILd1P6j6Z"
      }
    },
    {
      "cell_type": "markdown",
      "source": [
        "# read this files\n",
        "not only you create .txt files in python but you can also call.txt file in a \"read mode\"(r).\n"
      ],
      "metadata": {
        "id": "8tP4JKzB67_-"
      }
    },
    {
      "cell_type": "code",
      "source": [
        "#step1. open the file in read mode\n",
        "file = open(\"PwSkills.txt\", \"r\")"
      ],
      "metadata": {
        "id": "n1AFm_Ke9ghJ"
      },
      "execution_count": 35,
      "outputs": []
    },
    {
      "cell_type": "code",
      "source": [
        "#step2. here we'll check, is our file is open or not ,of yes we proced\n",
        "if file.mode == 'r':\n",
        "    content = file.read() #we used file.read() for reading the file data and stored it in a veriable.\n",
        ""
      ],
      "metadata": {
        "id": "28KJZbmb6yTl"
      },
      "execution_count": 36,
      "outputs": []
    },
    {
      "cell_type": "code",
      "source": [
        "#step3. printing the file\n",
        "print(content)\n",
        "print(\"here is the output!\")"
      ],
      "metadata": {
        "colab": {
          "base_uri": "https://localhost:8080/"
        },
        "id": "eY75fLuh79Iy",
        "outputId": "1ab94b3a-ba32-4ee9-a7d5-380e304e7f36"
      },
      "execution_count": 37,
      "outputs": [
        {
          "output_type": "stream",
          "name": "stdout",
          "text": [
            "Line number is 1\n",
            "Line number is 2\n",
            "Line number is 3\n",
            "Line number is 4\n",
            "Line number is 5\n",
            "Line number is 1\n",
            "Line number is 2\n",
            "Line number is 3\n",
            "Line number is 4\n",
            "Line number is 5\n",
            "Line number is 1\n",
            "Line number is 2\n",
            "Line number is 3\n",
            "Line number is 4\n",
            "Line number is 5\n",
            "appending line number 1\n",
            "appending line number 2\n",
            "appending line number 3\n",
            "\n",
            "here is the output!\n"
          ]
        }
      ]
    },
    {
      "cell_type": "markdown",
      "source": [
        "# Text preprocessing\n",
        "Suppose we have textual data available, we need to apply many of pre-processing steps to the data to transform those words into numerical features that work with machine learning algorithms.\n",
        "\n",
        "The pre-processing steps for the problem depend mainly on the domain and the problem itself. We don't need to apply all the steps for every problem.\n",
        "\n",
        "Here, we're going to see text preprocessing in Python. We'll use NLTK (Natural language toolkit) library here.\n"
      ],
      "metadata": {
        "id": "BCwglRhz-LQt"
      }
    },
    {
      "cell_type": "code",
      "source": [
        "# import necessary libraries\n",
        "import nltk\n",
        "import string\n",
        "import re"
      ],
      "metadata": {
        "id": "GCXqocYt8Kbt"
      },
      "execution_count": 39,
      "outputs": []
    },
    {
      "cell_type": "markdown",
      "source": [
        "# Text lowercase\n",
        "We do lowercase the text to reduce the size of the vocabulary of our text data."
      ],
      "metadata": {
        "id": "JyheTBuA_2m1"
      }
    },
    {
      "cell_type": "code",
      "source": [
        "def lowercase_text(text):\n",
        "  return text.lower()\n",
        "\n",
        "input_str = \"Wheter IS too cloudy.possiblibity of rain is High,Today!!\"\n",
        "lowercase_text(input_str)"
      ],
      "metadata": {
        "colab": {
          "base_uri": "https://localhost:8080/",
          "height": 36
        },
        "id": "GXOEAh_X_AqY",
        "outputId": "538dec38-224d-4b93-a154-a46c101d4de0"
      },
      "execution_count": 41,
      "outputs": [
        {
          "output_type": "execute_result",
          "data": {
            "text/plain": [
              "'wheter is too cloudy.possiblibity of rain is high,today!!'"
            ],
            "application/vnd.google.colaboratory.intrinsic+json": {
              "type": "string"
            }
          },
          "metadata": {},
          "execution_count": 41
        }
      ]
    },
    {
      "cell_type": "markdown",
      "source": [
        "# Remove numbers\n",
        "we should either remove the numbers or convert those numbers into textual repersentations.we use regular expressions(re)to move the numbers.\n"
      ],
      "metadata": {
        "id": "XUJokVmuA4zl"
      }
    },
    {
      "cell_type": "code",
      "source": [
        "def remove_num(text):\n",
        "  result = re.sub(r'\\d+', '', text)\n",
        "  return result\n",
        "\n",
        "\n",
        "input_s = \"you bought 6 candies from shop, and 4 candies are in home.\"\n",
        "remove_num(input_s)"
      ],
      "metadata": {
        "colab": {
          "base_uri": "https://localhost:8080/",
          "height": 36
        },
        "id": "K8D3SUP2Azsm",
        "outputId": "6b1bc21c-f2be-40c5-c407-44a3bf2e8c27"
      },
      "execution_count": 44,
      "outputs": [
        {
          "output_type": "execute_result",
          "data": {
            "text/plain": [
              "'you bought  candies from shop, and  candies are in home.'"
            ],
            "application/vnd.google.colaboratory.intrinsic+json": {
              "type": "string"
            }
          },
          "metadata": {},
          "execution_count": 44
        }
      ]
    },
    {
      "cell_type": "markdown",
      "source": [
        "As we mentioned above, you can also convert the numbers into words.this could be done by using the inflect library."
      ],
      "metadata": {
        "id": "OytgYZZ0CYnr"
      }
    },
    {
      "cell_type": "code",
      "source": [
        "# import the library\n",
        "import inflect\n",
        "q = inflect.engine()\n",
        "\n",
        "# convert number into text\n",
        "def convert_num(text):\n",
        "    # split strings into list of texts\n",
        "    temp_string = text.split()\n",
        "    # initialise empty list\n",
        "    new_str = []\n",
        "\n",
        "    for word in temp_string:\n",
        "        # if text is a digit, convert the digit\n",
        "        # to numbers and append into the new_str list\n",
        "        if word.isdigit():\n",
        "            temp = q.number_to_words(word)\n",
        "            new_str.append(temp)\n",
        "        # append the texts as it is\n",
        "        else:\n",
        "            new_str.append(word)\n",
        "\n",
        "    # join the texts of new_str to form a string\n",
        "    temp_str = ' '.join(new_str)\n",
        "    return temp_str\n",
        "\n",
        "input_str = 'You bought 6 candies from shop, and 4 candies are in home.'\n",
        "convert_num(input_str)"
      ],
      "metadata": {
        "colab": {
          "base_uri": "https://localhost:8080/",
          "height": 36
        },
        "id": "5ez6qP8OBqxv",
        "outputId": "be4b683d-5b45-443f-d4e9-838ad5fa85f0"
      },
      "execution_count": 45,
      "outputs": [
        {
          "output_type": "execute_result",
          "data": {
            "text/plain": [
              "'You bought six candies from shop, and four candies are in home.'"
            ],
            "application/vnd.google.colaboratory.intrinsic+json": {
              "type": "string"
            }
          },
          "metadata": {},
          "execution_count": 45
        }
      ]
    },
    {
      "cell_type": "markdown",
      "source": [
        "# Remove Punctuation\n",
        "\n",
        "We remove punctuations because of that we don't have different form of the same word. If we don't remove punctuations, then been, been, and been! will be treated separately.\n"
      ],
      "metadata": {
        "id": "28UbnJ3ZFeYG"
      }
    },
    {
      "cell_type": "code",
      "source": [
        "# remove punctuation\n",
        "def rem_punct(text):\n",
        "    translator = str.maketrans('', '', string.punctuation)\n",
        "    return text.translate(translator)\n",
        "\n",
        "# last parameter specifies punctuation string describing which characters to remove from the original string\n",
        "input_str = \"Hey. Are you excited? After a week, we will be in Shimla!!!\"\n",
        "rem_punct(input_str)\n",
        "\n"
      ],
      "metadata": {
        "colab": {
          "base_uri": "https://localhost:8080/",
          "height": 36
        },
        "id": "MgtqHZn2EJKE",
        "outputId": "96973956-6972-47e6-bb61-033ff8f8014c"
      },
      "execution_count": 46,
      "outputs": [
        {
          "output_type": "execute_result",
          "data": {
            "text/plain": [
              "'Hey Are you excited After a week we will be in Shimla'"
            ],
            "application/vnd.google.colaboratory.intrinsic+json": {
              "type": "string"
            }
          },
          "metadata": {},
          "execution_count": 46
        }
      ]
    },
    {
      "cell_type": "code",
      "source": [
        "import string"
      ],
      "metadata": {
        "id": "3-p1oJfhFp8n"
      },
      "execution_count": 47,
      "outputs": []
    },
    {
      "cell_type": "code",
      "source": [
        "result = string.punctuation"
      ],
      "metadata": {
        "id": "iJcYSdymFtdO"
      },
      "execution_count": 48,
      "outputs": []
    },
    {
      "cell_type": "code",
      "source": [
        "print(result)"
      ],
      "metadata": {
        "colab": {
          "base_uri": "https://localhost:8080/"
        },
        "id": "00My_ULGF0O7",
        "outputId": "6eadf319-019b-452d-9af3-3830680a0244"
      },
      "execution_count": 49,
      "outputs": [
        {
          "output_type": "stream",
          "name": "stdout",
          "text": [
            "!\"#$%&'()*+,-./:;<=>?@[\\]^_`{|}~\n"
          ]
        }
      ]
    },
    {
      "cell_type": "markdown",
      "source": [
        "#Text normalization\n",
        "\n",
        "In the text pre-processing highly overlooked step is text normalization. The text normalization means the process of transforming the text into the canonical (or standard) form. Like \"ok\" and \"o.k\" can be transformed to \"okay\", its canonical form. And another example is mapping of near words such as \"preprocessing\", \"pre-processing\" and \"pre processing\" to just \"preprocessing\".\n",
        "\n",
        "Text normalization is too useful for noisy texts such as social media comments, comment to blog posts, text messages, where abbreviations, misspellings, and the use out-of-vocabulary (OOV) are prevalent.\n",
        "\n",
        "\n",
        "---\n",
        "\n",
        "Effects of normalization\n",
        "\n",
        "Text normalization has even been effective for analyzing highly unstructured clinical texts where physicians take notes in non-standard ways.\n",
        "We have also found it useful for topic extraction whenever synonyms and spelling differences are common (like ‘topic modelling’, ‘topic modeling’, ‘topic-modeling’, ‘topic modeling’).\n",
        "\n",
        "Unlike stemming and lemmatization, there is not a standard way to normalize texts. It typically depends on the task. For e.g, the way you would normalize clinical texts would arguably be different from how you normalize text messages.\n",
        "\n",
        "Some of the common approaches to text normalization include dictionary mappings, statistical machine translation (SMT) and spelling-correction based approaches.\n",
        "\n",
        "\n",
        "---\n",
        "\n",
        "Text normalization is the process of converting unstructured text into a standard or ‘canonical’ form. It is useful when different versions of the same word appear in the text, or there are typos, abbreviations, and non-standard spellings. This ensures consistency and improves the performance of NLP models."
      ],
      "metadata": {
        "id": "QBwkTCIEIDUi"
      }
    },
    {
      "cell_type": "markdown",
      "source": [
        "# Word Count\n",
        "\n",
        "I am assuming you have the understanding of tokenization, the first figure we can calculate is the word frequency. By word frequency we can find out how many times each token appears in the text. When talking about word frequency, we distinguish between types and tokens. Types are the distinct words in a corpus, whereas tokens are the words, including repeats. Let’s see how this works in practice.\n",
        "\n",
        "Let’s take an example for better understanding:\n",
        "\n",
        "> “There is no need to panic. We need to work together, take small yet important measures to ensure self-protection,” the Prime Minister tweeted.\n",
        "\n",
        "How many tokens and types are there in the above sentences?\n",
        "\n",
        "Let’s use Python for calculating these figures. First, tokenize the sentence by using the tokenizer which uses the non-alphabetic characters as a separator.\n",
        "\n",
        "\n",
        "\n",
        "\n",
        "\n"
      ],
      "metadata": {
        "id": "5R-tozNoOD94"
      }
    },
    {
      "cell_type": "code",
      "source": [
        "from nltk.tokenize.regexp import WhitespaceTokenizer\n",
        "m = \" 'There is no need to panic. we need to work together, take small yet important measures to ensure self-protection,' the Prime Minister tweeted.\"\n",
        "\n"
      ],
      "metadata": {
        "id": "95Xdt_xJIVoU"
      },
      "execution_count": 52,
      "outputs": []
    },
    {
      "cell_type": "markdown",
      "source": [
        "Note in the above we had used a slightly different syntax for importing the module. You’ll recognize by now the variable assignment.\n"
      ],
      "metadata": {
        "id": "rG8jTL0nPCAT"
      }
    },
    {
      "cell_type": "code",
      "source": [
        "tokens = WhitespaceTokenizer().tokenize(m)\n",
        "print(len(tokens))"
      ],
      "metadata": {
        "colab": {
          "base_uri": "https://localhost:8080/"
        },
        "id": "fnI288YOOoOU",
        "outputId": "303fc4ca-7c48-44d6-cff5-8cf8439c392a"
      },
      "execution_count": 53,
      "outputs": [
        {
          "output_type": "stream",
          "name": "stdout",
          "text": [
            "23\n"
          ]
        }
      ]
    },
    {
      "cell_type": "code",
      "source": [
        "tokens"
      ],
      "metadata": {
        "colab": {
          "base_uri": "https://localhost:8080/"
        },
        "id": "ieHj-fD-PL_Q",
        "outputId": "29e94ada-dcbb-4005-9fd7-809cb3e08b0c"
      },
      "execution_count": 54,
      "outputs": [
        {
          "output_type": "execute_result",
          "data": {
            "text/plain": [
              "[\"'There\",\n",
              " 'is',\n",
              " 'no',\n",
              " 'need',\n",
              " 'to',\n",
              " 'panic.',\n",
              " 'we',\n",
              " 'need',\n",
              " 'to',\n",
              " 'work',\n",
              " 'together,',\n",
              " 'take',\n",
              " 'small',\n",
              " 'yet',\n",
              " 'important',\n",
              " 'measures',\n",
              " 'to',\n",
              " 'ensure',\n",
              " \"self-protection,'\",\n",
              " 'the',\n",
              " 'Prime',\n",
              " 'Minister',\n",
              " 'tweeted.']"
            ]
          },
          "metadata": {},
          "execution_count": 54
        }
      ]
    },
    {
      "cell_type": "code",
      "source": [
        "my_vocab = set(tokens)\n",
        "print(len(tokens))"
      ],
      "metadata": {
        "colab": {
          "base_uri": "https://localhost:8080/"
        },
        "id": "hpG4L0m5Pg1m",
        "outputId": "636688ed-11e3-49fa-8ba3-927f155be7e7"
      },
      "execution_count": 56,
      "outputs": [
        {
          "output_type": "stream",
          "name": "stdout",
          "text": [
            "23\n"
          ]
        }
      ]
    },
    {
      "cell_type": "code",
      "source": [
        "my_vocab"
      ],
      "metadata": {
        "colab": {
          "base_uri": "https://localhost:8080/"
        },
        "id": "dy1QVGLPPrmd",
        "outputId": "ed0fe5fd-03a7-4f69-9972-3513647eae6c"
      },
      "execution_count": 57,
      "outputs": [
        {
          "output_type": "execute_result",
          "data": {
            "text/plain": [
              "{\"'There\",\n",
              " 'Minister',\n",
              " 'Prime',\n",
              " 'ensure',\n",
              " 'important',\n",
              " 'is',\n",
              " 'measures',\n",
              " 'need',\n",
              " 'no',\n",
              " 'panic.',\n",
              " \"self-protection,'\",\n",
              " 'small',\n",
              " 'take',\n",
              " 'the',\n",
              " 'to',\n",
              " 'together,',\n",
              " 'tweeted.',\n",
              " 'we',\n",
              " 'work',\n",
              " 'yet'}"
            ]
          },
          "metadata": {},
          "execution_count": 57
        }
      ]
    },
    {
      "cell_type": "markdown",
      "source": [
        "Now we are going to perform the same operations but with the different tokenizer"
      ],
      "metadata": {
        "id": "SkVD8WzEP6yu"
      }
    },
    {
      "cell_type": "code",
      "source": [
        "my_st = \"'There is no need to panic. we need to work together, take small yet import measures to ensure self-protections,'the prime minister tweeted.\""
      ],
      "metadata": {
        "id": "6vhFWtowP05g"
      },
      "execution_count": 65,
      "outputs": []
    },
    {
      "cell_type": "markdown",
      "source": [
        "we'll import different tokenizer:"
      ],
      "metadata": {
        "id": "CkkQb7DTQtoA"
      }
    },
    {
      "cell_type": "code",
      "source": [
        "from nltk.tokenize.regexp import WordPunctTokenizer"
      ],
      "metadata": {
        "id": "dYsNidjsQsKa"
      },
      "execution_count": 66,
      "outputs": []
    },
    {
      "cell_type": "markdown",
      "source": [
        "Above tokenizer also split the words into tokens"
      ],
      "metadata": {
        "id": "V7s4M-e7Rd5S"
      }
    },
    {
      "cell_type": "code",
      "source": [
        "m_t = WordPunctTokenizer().tokenize(my_st)\n",
        "print(len(m_t))"
      ],
      "metadata": {
        "colab": {
          "base_uri": "https://localhost:8080/"
        },
        "id": "7Z3huK0KRHMy",
        "outputId": "52b933ed-e705-49dc-b3e7-5e561ebf29f5"
      },
      "execution_count": 67,
      "outputs": [
        {
          "output_type": "stream",
          "name": "stdout",
          "text": [
            "30\n"
          ]
        }
      ]
    },
    {
      "cell_type": "code",
      "source": [
        "m_t"
      ],
      "metadata": {
        "colab": {
          "base_uri": "https://localhost:8080/"
        },
        "id": "j-6A_a9XRsF6",
        "outputId": "4f00b1b3-454c-4a10-9b1e-15ed5cf2a07d"
      },
      "execution_count": 68,
      "outputs": [
        {
          "output_type": "execute_result",
          "data": {
            "text/plain": [
              "[\"'\",\n",
              " 'There',\n",
              " 'is',\n",
              " 'no',\n",
              " 'need',\n",
              " 'to',\n",
              " 'panic',\n",
              " '.',\n",
              " 'we',\n",
              " 'need',\n",
              " 'to',\n",
              " 'work',\n",
              " 'together',\n",
              " ',',\n",
              " 'take',\n",
              " 'small',\n",
              " 'yet',\n",
              " 'import',\n",
              " 'measures',\n",
              " 'to',\n",
              " 'ensure',\n",
              " 'self',\n",
              " '-',\n",
              " 'protections',\n",
              " \",'\",\n",
              " 'the',\n",
              " 'prime',\n",
              " 'minister',\n",
              " 'tweeted',\n",
              " '.']"
            ]
          },
          "metadata": {},
          "execution_count": 68
        }
      ]
    },
    {
      "cell_type": "markdown",
      "source": [
        "# Frequency distribution\n",
        "what is frequency distribution? this is basically counting words in your texts.to give a brif example of how it works,"
      ],
      "metadata": {
        "id": "nvGw1vFtSRT2"
      }
    },
    {
      "cell_type": "code",
      "source": [
        "#from nltk.book import *\n",
        "import nltk\n",
        "nltk.download('punkt_tab')\n",
        "nltk.download('gutenberg')\n",
        "from nltk.probability import FreqDist\n",
        "from nltk.tokenize import word_tokenize\n",
        "text1 = \"'There is no need to panic. we need to work together, take small yet import measures to ensure self-protections,'the prime minister tweeted.\"\n",
        "FreqDist= nltk.FreqDist(word_tokenize(text1))\n",
        "print(FreqDist)"
      ],
      "metadata": {
        "colab": {
          "base_uri": "https://localhost:8080/"
        },
        "id": "Yy5p-EVVR7VL",
        "outputId": "d3f56c30-4b38-4fae-eaca-1595dc98b8f4"
      },
      "execution_count": 77,
      "outputs": [
        {
          "output_type": "stream",
          "name": "stderr",
          "text": [
            "[nltk_data] Downloading package punkt_tab to /root/nltk_data...\n",
            "[nltk_data]   Unzipping tokenizers/punkt_tab.zip.\n"
          ]
        },
        {
          "output_type": "stream",
          "name": "stdout",
          "text": [
            "<FreqDist with 22 samples and 27 outcomes>\n"
          ]
        },
        {
          "output_type": "stream",
          "name": "stderr",
          "text": [
            "[nltk_data] Downloading package gutenberg to /root/nltk_data...\n",
            "[nltk_data]   Package gutenberg is already up-to-date!\n"
          ]
        }
      ]
    },
    {
      "cell_type": "markdown",
      "source": [
        "The class FreqDist works like a dictionary where keys are the text and the values are count associated with that word. for example,if you went to see how many words \"person\" are in the text, you can type as:"
      ],
      "metadata": {
        "id": "zgWrK8XlWPuW"
      }
    },
    {
      "cell_type": "code",
      "source": [
        "print(FreqDist['person'])"
      ],
      "metadata": {
        "colab": {
          "base_uri": "https://localhost:8080/"
        },
        "id": "m5M_YGQCT0ha",
        "outputId": "23407a64-66d9-4833-d7cd-dbd23e8365c1"
      },
      "execution_count": 78,
      "outputs": [
        {
          "output_type": "stream",
          "name": "stdout",
          "text": [
            "0\n"
          ]
        }
      ]
    },
    {
      "cell_type": "markdown",
      "source": [
        "one of the most importing function in FreqDist is the.key() function let us see what will it give in a below code."
      ],
      "metadata": {
        "id": "TLKi5ovjW_0T"
      }
    },
    {
      "cell_type": "code",
      "source": [
        "words = FreqDist.keys()\n",
        "print(type(words))"
      ],
      "metadata": {
        "colab": {
          "base_uri": "https://localhost:8080/"
        },
        "id": "jM-P89k5W2eF",
        "outputId": "b32f9ca4-44fb-4221-ac2d-25af5ba6b4a9"
      },
      "execution_count": 80,
      "outputs": [
        {
          "output_type": "stream",
          "name": "stdout",
          "text": [
            "<class 'dict_keys'>\n"
          ]
        }
      ]
    },
    {
      "cell_type": "markdown",
      "source": [
        "After running above code, it'll give as class 'dist_key',in the other words, you get a list of all the words in your text.\n",
        "\n",
        "And you want to see how many words are there in the text,"
      ],
      "metadata": {
        "id": "QB9rX9raXgZn"
      }
    },
    {
      "cell_type": "code",
      "source": [
        "print(len(words))"
      ],
      "metadata": {
        "colab": {
          "base_uri": "https://localhost:8080/"
        },
        "id": "bRBHIgb0XWNh",
        "outputId": "c1ee3929-b9c0-4a57-da16-390b05a41a5e"
      },
      "execution_count": 81,
      "outputs": [
        {
          "output_type": "stream",
          "name": "stdout",
          "text": [
            "22\n"
          ]
        }
      ]
    },
    {
      "cell_type": "markdown",
      "source": [
        "in the class nltk.Text function do the same stuff,so what is the difference? The difference is that with FreqDist you can create your own text without the necessity of converting your text to nltk.text>Text class.\n",
        "\n",
        "And the other usual function is plot.plot will do it displays the most used in your text. so, if you want to see 15 most used words in the text, for example like:\n"
      ],
      "metadata": {
        "id": "LcAvbNgkYPLq"
      }
    },
    {
      "cell_type": "code",
      "source": [
        "FreqDist.plot(15)"
      ],
      "metadata": {
        "colab": {
          "base_uri": "https://localhost:8080/",
          "height": 513
        },
        "id": "ai4aXKl3YIb_",
        "outputId": "27f3d66e-d4f5-4d08-dd53-3522dee4320e"
      },
      "execution_count": 82,
      "outputs": [
        {
          "output_type": "execute_result",
          "data": {
            "text/plain": [
              "<Axes: xlabel='Samples', ylabel='Counts'>"
            ]
          },
          "metadata": {},
          "execution_count": 82
        },
        {
          "output_type": "display_data",
          "data": {
            "text/plain": [
              "<Figure size 640x480 with 1 Axes>"
            ],
            "image/png": "[encoded data removed]"
          },
          "metadata": {}
        }
      ]
    },
    {
      "cell_type": "markdown",
      "source": [
        "# personal Frequency Distribution\n",
        "\n",
        "suppose you want to do frequency distribution based on your own personal text. let's get started,"
      ],
      "metadata": {
        "id": "AkmsXf68awYs"
      }
    },
    {
      "cell_type": "code",
      "source": [
        "from nltk import FreqDist\n",
        "\n",
        "sent = \"'There is no need to panic. we need to work together, take small yet import measures to ensure self-protections,'the prime minister tweeted.\"\n",
        "\n",
        "text_list = sent.split(\" \")\n",
        "\n",
        "FreqDist = FreqDist(text_list)\n",
        "words = list(FreqDist.keys())\n",
        "print(FreqDist['need'])"
      ],
      "metadata": {
        "colab": {
          "base_uri": "https://localhost:8080/"
        },
        "id": "vwPmDuFLaYxz",
        "outputId": "28be0e1f-37fe-49c8-8939-9d25762e996f"
      },
      "execution_count": 84,
      "outputs": [
        {
          "output_type": "stream",
          "name": "stdout",
          "text": [
            "2\n"
          ]
        }
      ]
    },
    {
      "cell_type": "code",
      "source": [
        "FreqDist.plot(20)"
      ],
      "metadata": {
        "colab": {
          "base_uri": "https://localhost:8080/",
          "height": 591
        },
        "id": "skNE8IHgb4u6",
        "outputId": "baeb615c-80bc-48f0-de81-ffc43ad7f594"
      },
      "execution_count": 85,
      "outputs": [
        {
          "output_type": "execute_result",
          "data": {
            "text/plain": [
              "<Axes: xlabel='Samples', ylabel='Counts'>"
            ]
          },
          "metadata": {},
          "execution_count": 85
        },
        {
          "output_type": "display_data",
          "data": {
            "text/plain": [
              "<Figure size 640x480 with 1 Axes>"
            ],
            "image/png": "[encoded data removed]"
          },
          "metadata": {}
        }
      ]
    },
    {
      "cell_type": "code",
      "source": [],
      "metadata": {
        "id": "kTMvdTbfcPn6"
      },
      "execution_count": null,
      "outputs": []
    }
  ]
}