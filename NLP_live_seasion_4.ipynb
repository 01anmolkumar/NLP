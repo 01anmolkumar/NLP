{
  "nbformat": 4,
  "nbformat_minor": 0,
  "metadata": {
    "colab": {
      "provenance": [],
      "authorship_tag": "ABX9TyNp1ciglz6CVVTrLMafuk/o",
      "include_colab_link": true
    },
    "kernelspec": {
      "name": "python3",
      "display_name": "Python 3"
    },
    "language_info": {
      "name": "python"
    }
  },
  "cells": [
    {
      "cell_type": "markdown",
      "metadata": {
        "id": "view-in-github",
        "colab_type": "text"
      },
      "source": [
        "<a href=\"https://colab.research.google.com/github/01anmolkumar/NLP/blob/main/NLP_live_seasion_4.ipynb\" target=\"_parent\"><img src=\"https://colab.research.google.com/assets/colab-badge.svg\" alt=\"Open In Colab\"/></a>"
      ]
    },
    {
      "cell_type": "code",
      "execution_count": null,
      "metadata": {
        "colab": {
          "base_uri": "https://localhost:8080/"
        },
        "id": "35d-u9rg3Kdr",
        "outputId": "c5d61eaf-b772-43ae-e77c-948736d088ce"
      },
      "outputs": [
        {
          "output_type": "stream",
          "name": "stdout",
          "text": [
            "['chases', 'cat', 'eats', 'fish', 'dog']\n"
          ]
        },
        {
          "output_type": "stream",
          "name": "stderr",
          "text": [
            "[nltk_data] Downloading package punkt_tab to /root/nltk_data...\n",
            "[nltk_data]   Package punkt_tab is already up-to-date!\n"
          ]
        }
      ],
      "source": [
        "import nltk\n",
        "nltk.download('punkt_tab')\n",
        "\n",
        "#step 1 define the dataset\n",
        "sentences =[\"cat eats fish\", \"dog eats fish\", \"dog chases cat\"]\n",
        "\n",
        "#step 2 Tokenization\n",
        "\n",
        "tokenized_sentences = [nltk.word_tokenize(sentence.lower()) for sentence in sentences]\n",
        "\n",
        "#step 3 create vocabulary\n",
        "all_words = [word for sentence in tokenized_sentences for word in sentence]\n",
        "vocabulary = list(set(all_words))\n",
        "print(vocabulary)"
      ]
    },
    {
      "cell_type": "code",
      "source": [
        "def one_hot_encode(word, vocabulary):\n",
        "  vector = [0] * len(vocabulary) #[0, 0, 0, 0]\n",
        "  index = list(vocabulary).index(word)\n",
        "  vector[index] = 1\n",
        "  return vector\n"
      ],
      "metadata": {
        "id": "XDiLlOmi5EMp"
      },
      "execution_count": null,
      "outputs": []
    },
    {
      "cell_type": "code",
      "source": [
        "encoded_sentences = []\n",
        "\n",
        "for sentence in tokenized_sentences:\n",
        "  encoded_sentence = [one_hot_encode(word, vocabulary) for word in sentence]\n",
        "  encoded_sentences.append(encoded_sentence)\n",
        "\n",
        "print(tokenized_sentences)\n",
        "for x in encoded_sentences:\n",
        "  print(x)\n"
      ],
      "metadata": {
        "colab": {
          "base_uri": "https://localhost:8080/"
        },
        "id": "nQJujCJs7UKb",
        "outputId": "8aaa10bc-0ae9-4e59-ace3-1ae6624e7dfc"
      },
      "execution_count": null,
      "outputs": [
        {
          "output_type": "stream",
          "name": "stdout",
          "text": [
            "[['cat', 'eats', 'fish'], ['dog', 'eats', 'fish'], ['dog', 'chases', 'cat']]\n",
            "[[0, 1, 0, 0, 0], [0, 0, 1, 0, 0], [0, 0, 0, 1, 0]]\n",
            "[[0, 0, 0, 0, 1], [0, 0, 1, 0, 0], [0, 0, 0, 1, 0]]\n",
            "[[0, 0, 0, 0, 1], [1, 0, 0, 0, 0], [0, 1, 0, 0, 0]]\n"
          ]
        }
      ]
    },
    {
      "cell_type": "code",
      "source": [],
      "metadata": {
        "id": "PatIO-Ob8cNJ"
      },
      "execution_count": null,
      "outputs": []
    }
  ]
}