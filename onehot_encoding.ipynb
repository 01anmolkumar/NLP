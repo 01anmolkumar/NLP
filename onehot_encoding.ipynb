{
  "cells": [
    {
      "cell_type": "markdown",
      "metadata": {
        "id": "view-in-github",
        "colab_type": "text"
      },
      "source": [
        "<a href=\"https://colab.research.google.com/github/01anmolkumar/NLP/blob/main/onehot_encoding.ipynb\" target=\"_parent\"><img src=\"https://colab.research.google.com/assets/colab-badge.svg\" alt=\"Open In Colab\"/></a>"
      ]
    },
    {
      "cell_type": "code",
      "execution_count": 2,
      "metadata": {
        "colab": {
          "base_uri": "https://localhost:8080/"
        },
        "id": "y_1Fecay32BV",
        "outputId": "e6bc721d-1f45-44a7-a049-835a4e86a9ce"
      },
      "outputs": [
        {
          "output_type": "stream",
          "name": "stderr",
          "text": [
            "[nltk_data] Downloading package punkt to /root/nltk_data...\n",
            "[nltk_data]   Unzipping tokenizers/punkt.zip.\n",
            "[nltk_data] Downloading package punkt_tab to /root/nltk_data...\n",
            "[nltk_data]   Unzipping tokenizers/punkt_tab.zip.\n"
          ]
        }
      ],
      "source": [
        "import nltk\n",
        "nltk.download('punkt')\n",
        "from collections import Counter\n",
        "\n",
        "# Step 1: Define the dataset (sentences)\n",
        "sentences = [\"cat eats fish\", \"dog eats fish\", \"dog chases cat\"]\n",
        "\n",
        "# Step 2: Tokenize the sentences\n",
        "nltk.download('punkt_tab')\n",
        "tokenized_sentences = [nltk.word_tokenize(sentence.lower()) for sentence in sentences]\n",
        "\n",
        "# Step 3: Create vocabulary\n",
        "# Flatten the list of tokenized sentences to get all words\n",
        "all_words = [word for sentence in tokenized_sentences for word in sentence]\n",
        "\n",
        "# Get unique words (vocabulary) using Counter or set\n",
        "vocabulary = list(Counter(all_words).keys())\n",
        "\n",
        "# Step 4: Create a function for one-hot encoding\n",
        "def one_hot_encode(word, vocabulary):\n",
        "    vector = [0] * len(vocabulary)  # Initialize vector of all 0s\n",
        "    index = vocabulary.index(word)  # Find the index of the word in vocabulary\n",
        "    vector[index] = 1               # Set the corresponding index to 1\n",
        "    return vector\n",
        "\n",
        "# Step 5: Apply one-hot encoding to each sentence\n",
        "encoded_sentences = []\n",
        "for sentence in tokenized_sentences:\n",
        "    encoded_sentence = [one_hot_encode(word, vocabulary) for word in sentence]\n",
        "    encoded_sentences.append(encoded_sentence)\n",
        "\n",
        "#output the r\n"
      ]
    },
    {
      "cell_type": "code",
      "execution_count": 3,
      "metadata": {
        "colab": {
          "base_uri": "https://localhost:8080/"
        },
        "id": "EXBm4VpW4-ID",
        "outputId": "327cf7a0-9b62-4741-e712-5964f0c22627"
      },
      "outputs": [
        {
          "output_type": "execute_result",
          "data": {
            "text/plain": [
              "['cat eats fish', 'dog eats fish', 'dog chases cat']"
            ]
          },
          "metadata": {},
          "execution_count": 3
        }
      ],
      "source": [
        "sentences"
      ]
    },
    {
      "cell_type": "code",
      "execution_count": 4,
      "metadata": {
        "colab": {
          "base_uri": "https://localhost:8080/"
        },
        "id": "E8G2vT7Y4_LX",
        "outputId": "647f831a-01ca-4a63-e710-ab7f7ab19d50"
      },
      "outputs": [
        {
          "output_type": "execute_result",
          "data": {
            "text/plain": [
              "['cat', 'eats', 'fish', 'dog', 'eats', 'fish', 'dog', 'chases', 'cat']"
            ]
          },
          "metadata": {},
          "execution_count": 4
        }
      ],
      "source": [
        "all_words"
      ]
    },
    {
      "cell_type": "code",
      "execution_count": null,
      "metadata": {
        "id": "r5qHo4aK5aFT"
      },
      "outputs": [],
      "source": []
    }
  ],
  "metadata": {
    "colab": {
      "provenance": [],
      "authorship_tag": "ABX9TyPgktbX0rbXHy9SQC/tUh5F",
      "include_colab_link": true
    },
    "kernelspec": {
      "display_name": "Python 3",
      "name": "python3"
    },
    "language_info": {
      "name": "python"
    }
  },
  "nbformat": 4,
  "nbformat_minor": 0
}