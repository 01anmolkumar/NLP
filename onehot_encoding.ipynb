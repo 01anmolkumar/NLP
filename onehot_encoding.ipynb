{
  "cells": [
    {
      "cell_type": "markdown",
      "metadata": {
        "id": "view-in-github",
        "colab_type": "text"
      },
      "source": [
        "<a href=\"https://colab.research.google.com/github/01anmolkumar/NLP/blob/main/onehot_encoding.ipynb\" target=\"_parent\"><img src=\"https://colab.research.google.com/assets/colab-badge.svg\" alt=\"Open In Colab\"/></a>"
      ]
    },
    {
      "cell_type": "code",
      "execution_count": null,
      "metadata": {
        "colab": {
          "background_save": true,
          "base_uri": "https://localhost:8080/"
        },
        "id": "y_1Fecay32BV",
        "outputId": "34310696-2ab5-48b4-ac00-3978f5a38205"
      },
      "outputs": [
        {
          "name": "stderr",
          "output_type": "stream",
          "text": [
            "[nltk_data] Downloading package punkt to /root/nltk_data...\n",
            "[nltk_data]   Package punkt is already up-to-date!\n",
            "[nltk_data] Downloading package punkt_tab to /root/nltk_data...\n",
            "[nltk_data]   Package punkt_tab is already up-to-date!\n"
          ]
        }
      ],
      "source": [
        "import nltk\n",
        "nltk.download('punkt')\n",
        "from collections import Counter\n",
        "\n",
        "# Step 1: Define the dataset (sentences)\n",
        "sentences = [\"cat eats fish\", \"dog eats fish\", \"dog chases cat\"]\n",
        "\n",
        "# Step 2: Tokenize the sentences\n",
        "nltk.download('punkt_tab')\n",
        "tokenized_sentences = [nltk.word_tokenize(sentence.lower()) for sentence in sentences]\n",
        "\n",
        "# Step 3: Create vocabulary\n",
        "# Flatten the list of tokenized sentences to get all words\n",
        "all_words = [word for sentence in tokenized_sentences for word in sentence]\n",
        "\n",
        "# Get unique words (vocabulary) using Counter or set\n",
        "vocabulary = list(Counter(all_words).keys())\n",
        "\n",
        "# Step 4: Create a function for one-hot encoding\n",
        "def one_hot_encode(word, vocabulary):\n",
        "    vector = [0] * len(vocabulary)  # Initialize vector of all 0s\n",
        "    index = vocabulary.index(word)  # Find the index of the word in vocabulary\n",
        "    vector[index] = 1               # Set the corresponding index to 1\n",
        "    return vector\n",
        "\n",
        "# Step 5: Apply one-hot encoding to each sentence\n",
        "encoded_sentences = []\n",
        "for sentence in tokenized_sentences:\n",
        "    encoded_sentence = [one_hot_encode(word, vocabulary) for word in sentence]\n",
        "    encoded_sentences.append(encoded_sentence)\n",
        "\n",
        "#output the r\n"
      ]
    },
    {
      "cell_type": "code",
      "execution_count": null,
      "metadata": {
        "colab": {
          "base_uri": "https://localhost:8080/"
        },
        "id": "EXBm4VpW4-ID",
        "outputId": "ccca343d-8914-44d4-bc67-6f63a19a3403"
      },
      "outputs": [
        {
          "data": {
            "text/plain": [
              "['cat eats fish', 'dog eats fish', 'dog chases cat']"
            ]
          },
          "execution_count": 3,
          "metadata": {},
          "output_type": "execute_result"
        }
      ],
      "source": [
        "sentences"
      ]
    },
    {
      "cell_type": "code",
      "execution_count": null,
      "metadata": {
        "colab": {
          "base_uri": "https://localhost:8080/"
        },
        "id": "E8G2vT7Y4_LX",
        "outputId": "03cdd49e-51cb-4e29-f821-d3988df6fa59"
      },
      "outputs": [
        {
          "data": {
            "text/plain": [
              "['cat', 'eats', 'fish', 'dog', 'eats', 'fish', 'dog', 'chases', 'cat']"
            ]
          },
          "execution_count": 4,
          "metadata": {},
          "output_type": "execute_result"
        }
      ],
      "source": [
        "all_words"
      ]
    },
    {
      "cell_type": "code",
      "execution_count": null,
      "metadata": {
        "colab": {
          "background_save": true
        },
        "id": "r5qHo4aK5aFT",
        "outputId": "b5d5c45e-2248-4d55-acc0-470e796401e9"
      },
      "outputs": [
        {
          "name": "stdout",
          "output_type": "stream",
          "text": [
            "vocabulary : ['cat', 'eats', 'fish', 'dog', 'chases']\n",
            "sentence 1:\n"
          ]
        },
        {
          "ename": "NameError",
          "evalue": "name 'tokenzed_sentence' is not defined",
          "output_type": "error",
          "traceback": [
            "\u001b[0;31m---------------------------------------------------------------------------\u001b[0m",
            "\u001b[0;31mNameError\u001b[0m                                 Traceback (most recent call last)",
            "\u001b[0;32m<ipython-input-8-2344f82676eb>\u001b[0m in \u001b[0;36m<cell line: 0>\u001b[0;34m()\u001b[0m\n\u001b[1;32m      3\u001b[0m \u001b[0;32mfor\u001b[0m \u001b[0mi\u001b[0m\u001b[0;34m,\u001b[0m \u001b[0msentence\u001b[0m \u001b[0;32min\u001b[0m \u001b[0menumerate\u001b[0m\u001b[0;34m(\u001b[0m\u001b[0mencoded_sentence\u001b[0m\u001b[0;34m)\u001b[0m\u001b[0;34m:\u001b[0m\u001b[0;34m\u001b[0m\u001b[0;34m\u001b[0m\u001b[0m\n\u001b[1;32m      4\u001b[0m   \u001b[0mprint\u001b[0m\u001b[0;34m(\u001b[0m\u001b[0;34mf\"sentence {i+1}:\"\u001b[0m\u001b[0;34m)\u001b[0m\u001b[0;34m\u001b[0m\u001b[0;34m\u001b[0m\u001b[0m\n\u001b[0;32m----> 5\u001b[0;31m   \u001b[0;32mfor\u001b[0m \u001b[0mword\u001b[0m\u001b[0;34m,\u001b[0m \u001b[0mvector\u001b[0m \u001b[0;32min\u001b[0m \u001b[0mzip\u001b[0m\u001b[0;34m(\u001b[0m\u001b[0mtokenzed_sentence\u001b[0m\u001b[0;34m[\u001b[0m\u001b[0mi\u001b[0m\u001b[0;34m]\u001b[0m\u001b[0;34m,\u001b[0m\u001b[0msentence\u001b[0m\u001b[0;34m)\u001b[0m\u001b[0;34m:\u001b[0m\u001b[0;34m\u001b[0m\u001b[0;34m\u001b[0m\u001b[0m\n\u001b[0m\u001b[1;32m      6\u001b[0m     \u001b[0mprint\u001b[0m\u001b[0;34m(\u001b[0m\u001b[0;34mf\" {word}: {vector}\"\u001b[0m\u001b[0;34m)\u001b[0m\u001b[0;34m\u001b[0m\u001b[0;34m\u001b[0m\u001b[0m\n",
            "\u001b[0;31mNameError\u001b[0m: name 'tokenzed_sentence' is not defined"
          ]
        }
      ],
      "source": []
    }
  ],
  "metadata": {
    "colab": {
      "provenance": [],
      "authorship_tag": "ABX9TyPgktbX0rbXHy9SQC/tUh5F",
      "include_colab_link": true
    },
    "kernelspec": {
      "display_name": "Python 3",
      "name": "python3"
    },
    "language_info": {
      "name": "python"
    }
  },
  "nbformat": 4,
  "nbformat_minor": 0
}